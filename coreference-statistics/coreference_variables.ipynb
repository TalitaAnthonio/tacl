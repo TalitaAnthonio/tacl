{
 "cells": [
  {
   "cell_type": "code",
   "execution_count": 1,
   "metadata": {},
   "outputs": [],
   "source": [
    "x = [{'mentionID': 43, 'mentionType': 'PROPER', 'number': 'SINGULAR', 'gender': 'UNKNOWN', 'animacy': 'INANIMATE', 'beginIndex': 0, 'endIndex': 2, 'headIndex': 1, 'sentenceIndex': 10, 'position': 2, 'ref': ['The', 'Gloves'], 'tokenized_sent': ['The', 'Gloves', '-', 'This', 'is', 'probably', 'the', 'easiest', 'part', '.']}, {'mentionID': 41, 'mentionType': 'NOMINAL', 'number': 'PLURAL', 'gender': 'UNKNOWN', 'animacy': 'INANIMATE', 'beginIndex': 2, 'endIndex': 4, 'headIndex': 3, 'sentenceIndex': 9, 'position': 2, 'ref': ['The', 'Gloves'], 'tokenized_sent': ['5', '.', 'The', 'Gloves']}]"
   ]
  },
  {
   "cell_type": "code",
   "execution_count": 2,
   "metadata": {},
   "outputs": [
    {
     "data": {
      "text/plain": [
       "[{'mentionID': 43,\n",
       "  'mentionType': 'PROPER',\n",
       "  'number': 'SINGULAR',\n",
       "  'gender': 'UNKNOWN',\n",
       "  'animacy': 'INANIMATE',\n",
       "  'beginIndex': 0,\n",
       "  'endIndex': 2,\n",
       "  'headIndex': 1,\n",
       "  'sentenceIndex': 10,\n",
       "  'position': 2,\n",
       "  'ref': ['The', 'Gloves'],\n",
       "  'tokenized_sent': ['The',\n",
       "   'Gloves',\n",
       "   '-',\n",
       "   'This',\n",
       "   'is',\n",
       "   'probably',\n",
       "   'the',\n",
       "   'easiest',\n",
       "   'part',\n",
       "   '.']},\n",
       " {'mentionID': 41,\n",
       "  'mentionType': 'NOMINAL',\n",
       "  'number': 'PLURAL',\n",
       "  'gender': 'UNKNOWN',\n",
       "  'animacy': 'INANIMATE',\n",
       "  'beginIndex': 2,\n",
       "  'endIndex': 4,\n",
       "  'headIndex': 3,\n",
       "  'sentenceIndex': 9,\n",
       "  'position': 2,\n",
       "  'ref': ['The', 'Gloves'],\n",
       "  'tokenized_sent': ['5', '.', 'The', 'Gloves']}]"
      ]
     },
     "execution_count": 2,
     "metadata": {},
     "output_type": "execute_result"
    }
   ],
   "source": [
    "x"
   ]
  },
  {
   "cell_type": "code",
   "execution_count": 4,
   "metadata": {},
   "outputs": [],
   "source": [
    "sorted_x = sorted(x, key=lambda x: x['sentenceIndex'])"
   ]
  },
  {
   "cell_type": "code",
   "execution_count": 5,
   "metadata": {},
   "outputs": [
    {
     "data": {
      "text/plain": [
       "[{'mentionID': 41,\n",
       "  'mentionType': 'NOMINAL',\n",
       "  'number': 'PLURAL',\n",
       "  'gender': 'UNKNOWN',\n",
       "  'animacy': 'INANIMATE',\n",
       "  'beginIndex': 2,\n",
       "  'endIndex': 4,\n",
       "  'headIndex': 3,\n",
       "  'sentenceIndex': 9,\n",
       "  'position': 2,\n",
       "  'ref': ['The', 'Gloves'],\n",
       "  'tokenized_sent': ['5', '.', 'The', 'Gloves']},\n",
       " {'mentionID': 43,\n",
       "  'mentionType': 'PROPER',\n",
       "  'number': 'SINGULAR',\n",
       "  'gender': 'UNKNOWN',\n",
       "  'animacy': 'INANIMATE',\n",
       "  'beginIndex': 0,\n",
       "  'endIndex': 2,\n",
       "  'headIndex': 1,\n",
       "  'sentenceIndex': 10,\n",
       "  'position': 2,\n",
       "  'ref': ['The', 'Gloves'],\n",
       "  'tokenized_sent': ['The',\n",
       "   'Gloves',\n",
       "   '-',\n",
       "   'This',\n",
       "   'is',\n",
       "   'probably',\n",
       "   'the',\n",
       "   'easiest',\n",
       "   'part',\n",
       "   '.']}]"
      ]
     },
     "execution_count": 5,
     "metadata": {},
     "output_type": "execute_result"
    }
   ],
   "source": [
    "sorted_x"
   ]
  },
  {
   "cell_type": "code",
   "execution_count": 9,
   "metadata": {},
   "outputs": [],
   "source": [
    "a = x\n",
    "y = sorted(a, key=lambda x: x['sentenceIndex'], reverse=True)"
   ]
  },
  {
   "cell_type": "code",
   "execution_count": 10,
   "metadata": {},
   "outputs": [
    {
     "data": {
      "text/plain": [
       "[{'mentionID': 43,\n",
       "  'mentionType': 'PROPER',\n",
       "  'number': 'SINGULAR',\n",
       "  'gender': 'UNKNOWN',\n",
       "  'animacy': 'INANIMATE',\n",
       "  'beginIndex': 0,\n",
       "  'endIndex': 2,\n",
       "  'headIndex': 1,\n",
       "  'sentenceIndex': 10,\n",
       "  'position': 2,\n",
       "  'ref': ['The', 'Gloves'],\n",
       "  'tokenized_sent': ['The',\n",
       "   'Gloves',\n",
       "   '-',\n",
       "   'This',\n",
       "   'is',\n",
       "   'probably',\n",
       "   'the',\n",
       "   'easiest',\n",
       "   'part',\n",
       "   '.']},\n",
       " {'mentionID': 41,\n",
       "  'mentionType': 'NOMINAL',\n",
       "  'number': 'PLURAL',\n",
       "  'gender': 'UNKNOWN',\n",
       "  'animacy': 'INANIMATE',\n",
       "  'beginIndex': 2,\n",
       "  'endIndex': 4,\n",
       "  'headIndex': 3,\n",
       "  'sentenceIndex': 9,\n",
       "  'position': 2,\n",
       "  'ref': ['The', 'Gloves'],\n",
       "  'tokenized_sent': ['5', '.', 'The', 'Gloves']}]"
      ]
     },
     "execution_count": 10,
     "metadata": {},
     "output_type": "execute_result"
    }
   ],
   "source": [
    "y"
   ]
  },
  {
   "cell_type": "code",
   "execution_count": 12,
   "metadata": {},
   "outputs": [
    {
     "data": {
      "text/plain": [
       "10"
      ]
     },
     "execution_count": 12,
     "metadata": {},
     "output_type": "execute_result"
    }
   ],
   "source": [
    "y[0]['sentenceIndex']"
   ]
  },
  {
   "cell_type": "code",
   "execution_count": 13,
   "metadata": {},
   "outputs": [
    {
     "data": {
      "text/plain": [
       "9"
      ]
     },
     "execution_count": 13,
     "metadata": {},
     "output_type": "execute_result"
    }
   ],
   "source": [
    "y[1]['sentenceIndex']"
   ]
  },
  {
   "cell_type": "code",
   "execution_count": 15,
   "metadata": {},
   "outputs": [
    {
     "data": {
      "text/plain": [
       "1"
      ]
     },
     "execution_count": 15,
     "metadata": {},
     "output_type": "execute_result"
    }
   ],
   "source": [
    "y[0]['sentenceIndex'] - y[1]['sentenceIndex']"
   ]
  },
  {
   "cell_type": "code",
   "execution_count": null,
   "metadata": {},
   "outputs": [],
   "source": []
  }
 ],
 "metadata": {
  "kernelspec": {
   "display_name": "Python 3",
   "language": "python",
   "name": "python3"
  },
  "language_info": {
   "codemirror_mode": {
    "name": "ipython",
    "version": 3
   },
   "file_extension": ".py",
   "mimetype": "text/x-python",
   "name": "python",
   "nbconvert_exporter": "python",
   "pygments_lexer": "ipython3",
   "version": "3.8.6"
  }
 },
 "nbformat": 4,
 "nbformat_minor": 4
}
